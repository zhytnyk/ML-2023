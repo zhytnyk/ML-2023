{
 "cells": [
  {
   "cell_type": "markdown",
   "id": "400680a4",
   "metadata": {},
   "source": [
    "# ЛАБОРАТОРНА РОБОТА  \n",
    "\n",
    "## \"Алгоритми та моделі перетворення даних\"\n",
    "\n",
    "__Метою__ лабораторної роботи є набуття практичних навичок використання модулів бібліотеки `Scikit-learn` для вирішення наступних задач:\n",
    "\n",
    "- визначення та розподілення данних по їх типам\n",
    "- вибір та застосування алгоритмів перетворення різноманітних типів даних\n",
    "- настроювання параметрів та застосування трансформерів\n",
    "- побудова конвеєра для автоматизації процесів трансформації даних\n",
    "\n",
    "__Результатом__ виконання лабораторної роботи повинен стати датасет, в якому колонки з покажчиком перетворені під для навчання моделей"
   ]
  },
  {
   "cell_type": "code",
   "execution_count": 2,
   "id": "50098a89",
   "metadata": {},
   "outputs": [],
   "source": [
    "# імпортувати бібліотеки pandas та numpy\n",
    "import pandas as pd\n",
    "import numpy as np"
   ]
  },
  {
   "cell_type": "markdown",
   "id": "306ace06",
   "metadata": {},
   "source": [
    "## Завдання\n",
    "\n",
    "Вхідним датасетом є csv-файл, отриманий в результаті виконання лабораторної роботи по конструюванню та очищеню покажчиків даних про продажі квартир рієлторської компанії.\n",
    "\n",
    "<h4 style='background-color:cyan; color:red; padding:15px'><ul>\n",
    "    <li>замість `...` вписуйте Ваш програмний код\n",
    "    <li>не змінюйте імена запропонованих зміних\n",
    "    </ul>\n",
    "</h4>"
   ]
  },
  {
   "cell_type": "code",
   "execution_count": 3,
   "id": "4428c2d4",
   "metadata": {},
   "outputs": [
    {
     "name": "stdout",
     "output_type": "stream",
     "text": [
      "      Price  rooms  price_per_m2  level  levels    year  area_total  \\\n",
      "0   30970.0    1.0        1106.0   12.0    13.0  2013.0        28.0   \n",
      "1   30970.0    1.0        1106.0   12.0    13.0  2013.0        28.0   \n",
      "2   82000.0    2.0        1281.0   18.0    26.0  2009.0        64.0   \n",
      "3  135000.0    2.0        2077.0   16.0    23.0  2012.0        65.0   \n",
      "4   84000.0    2.0        1273.0    6.0    26.0  2009.0        66.0   \n",
      "\n",
      "   area_living  area_kitchen           street    type     district  \n",
      "0         13.0           5.0  Петропавлівська   площа  Оболонський  \n",
      "1         13.0           5.0  Петропавлівська  вулиця  Подільський  \n",
      "2         37.0          14.0      Дніпровська  вулиця  Оболонський  \n",
      "3         25.0          18.0      Дніпровська  вулиця  Оболонський  \n",
      "4         37.0          18.0      Дніпровська  вулиця  Оболонський  \n",
      "        Price  rooms  price_per_m2  level  levels    year  area_total  \\\n",
      "478   42900.0    2.0         998.0    1.0     5.0  2009.0        43.0   \n",
      "479  115000.0    1.0        2614.0    2.0     7.0  2019.0        44.0   \n",
      "480   39000.0    1.0        1147.0    3.0     5.0  1960.0        34.0   \n",
      "481  115000.0    3.0        1135.0   13.0    25.0  2004.0        69.0   \n",
      "482   90005.0    2.0        1915.0    8.0    15.0  2009.0        47.0   \n",
      "\n",
      "     area_living  area_kitchen         street    type        district  \n",
      "478         29.0          14.0     Іскрівська  вулиця   Солом'янський  \n",
      "479         14.0          21.0   Теремківська  вулиця   Голосіївський  \n",
      "480         18.0           8.0  Автозаводська  вулиця     Оболонський  \n",
      "481         37.0          14.0  Здолбунівська  вулиця      Дарницький  \n",
      "482         17.0          20.0      Шолуденка  вулиця  Шевченківський  \n",
      "<class 'pandas.core.frame.DataFrame'>\n",
      "RangeIndex: 483 entries, 0 to 482\n",
      "Data columns (total 12 columns):\n",
      " #   Column        Non-Null Count  Dtype  \n",
      "---  ------        --------------  -----  \n",
      " 0   Price         483 non-null    float64\n",
      " 1   rooms         483 non-null    float64\n",
      " 2   price_per_m2  483 non-null    float64\n",
      " 3   level         483 non-null    float64\n",
      " 4   levels        483 non-null    float64\n",
      " 5   year          483 non-null    float64\n",
      " 6   area_total    483 non-null    float64\n",
      " 7   area_living   483 non-null    float64\n",
      " 8   area_kitchen  483 non-null    float64\n",
      " 9   street        483 non-null    object \n",
      " 10  type          483 non-null    object \n",
      " 11  district      483 non-null    object \n",
      "dtypes: float64(9), object(3)\n",
      "memory usage: 45.4+ KB\n",
      "None\n",
      "              Price       rooms   price_per_m2       level      levels  \\\n",
      "count  4.830000e+02  483.000000     483.000000  483.000000  483.000000   \n",
      "mean   2.198224e+05    2.159420    2188.782402    9.474120   17.525880   \n",
      "std    7.983972e+05    1.051303    7156.389112    7.081978    8.852693   \n",
      "min    3.097000e+04    1.000000     478.000000    1.000000    2.000000   \n",
      "25%    6.650000e+04    1.000000    1168.000000    4.000000    9.000000   \n",
      "50%    1.000000e+05    2.000000    1593.000000    8.000000   18.000000   \n",
      "75%    1.600000e+05    3.000000    2077.500000   13.000000   25.000000   \n",
      "max    1.570000e+07    7.000000  157000.000000   33.000000   47.000000   \n",
      "\n",
      "              year  area_total  area_living  area_kitchen  \n",
      "count   483.000000  483.000000   483.000000    483.000000  \n",
      "mean   1999.014493   78.768116    40.465839     15.467909  \n",
      "std      25.299980   51.387553    26.280966      8.488979  \n",
      "min    1895.000000   25.000000    10.000000      3.000000  \n",
      "25%    1994.500000   52.000000    30.000000     11.500000  \n",
      "50%    2009.000000   69.000000    37.000000     14.000000  \n",
      "75%    2014.000000   87.000000    44.000000     16.000000  \n",
      "max    2021.000000  400.000000   320.000000     78.000000  \n"
     ]
    }
   ],
   "source": [
    "# ззчитати підготовлений датасет `apartments_clean.csv` в датафрейм та проінспектувати його стан\n",
    "data = pd.read_csv(\"apartments_clean.csv\")\n",
    "print(data.head())\n",
    "print(data.tail())\n",
    "print(data.info())\n",
    "print(data.describe())"
   ]
  },
  {
   "cell_type": "markdown",
   "id": "9657db97",
   "metadata": {
    "heading_collapsed": true
   },
   "source": [
    "## 1. Визначення типів покажчиків вхідного датасету"
   ]
  },
  {
   "cell_type": "code",
   "execution_count": 4,
   "id": "fb9d7753",
   "metadata": {
    "hidden": true
   },
   "outputs": [
    {
     "name": "stdout",
     "output_type": "stream",
     "text": [
      "   rooms  price_per_m2  level  levels    year  area_total  area_living  \\\n",
      "0    1.0        1106.0   12.0    13.0  2013.0        28.0         13.0   \n",
      "1    1.0        1106.0   12.0    13.0  2013.0        28.0         13.0   \n",
      "2    2.0        1281.0   18.0    26.0  2009.0        64.0         37.0   \n",
      "3    2.0        2077.0   16.0    23.0  2012.0        65.0         25.0   \n",
      "4    2.0        1273.0    6.0    26.0  2009.0        66.0         37.0   \n",
      "\n",
      "   area_kitchen           street    type     district  \n",
      "0           5.0  Петропавлівська   площа  Оболонський  \n",
      "1           5.0  Петропавлівська  вулиця  Подільський  \n",
      "2          14.0      Дніпровська  вулиця  Оболонський  \n",
      "3          18.0      Дніпровська  вулиця  Оболонський  \n",
      "4          18.0      Дніпровська  вулиця  Оболонський  \n"
     ]
    }
   ],
   "source": [
    "# відокремити від робочого датасету колонку з цільовим показчиком (`Price`) \n",
    "# та вилучити її з обробки\n",
    "y = data['Price']\n",
    "target = data.drop('Price', axis=1)\n",
    "print(target.head())"
   ]
  },
  {
   "cell_type": "code",
   "execution_count": 5,
   "id": "dbb005f1",
   "metadata": {
    "hidden": true
   },
   "outputs": [
    {
     "data": {
      "text/plain": [
       "((483, 11), (483, 12))"
      ]
     },
     "execution_count": 5,
     "metadata": {},
     "output_type": "execute_result"
    }
   ],
   "source": [
    "# для самоперевірки: кількисть рядків в датасетах повинна співпадати!\n",
    "target.shape, data.shape"
   ]
  },
  {
   "cell_type": "code",
   "execution_count": 6,
   "id": "ae23f321",
   "metadata": {
    "hidden": true
   },
   "outputs": [],
   "source": [
    "# імпортувати з sklearn модуль, що відповідає за селективний відбір покажчиків\n",
    "from sklearn.compose import make_column_selector"
   ]
  },
  {
   "cell_type": "code",
   "execution_count": 8,
   "id": "652f0ba2",
   "metadata": {
    "hidden": true
   },
   "outputs": [],
   "source": [
    "# побудувати  селектори для вібіру числових та категоріальних колонок\n",
    "numeric_selector = make_column_selector(dtype_include=np.number)\n",
    "category_selector = make_column_selector(dtype_include=object)"
   ]
  },
  {
   "cell_type": "code",
   "execution_count": 9,
   "id": "a673dde6",
   "metadata": {
    "hidden": true
   },
   "outputs": [
    {
     "name": "stdout",
     "output_type": "stream",
     "text": [
      "список числових покажчиків = ['rooms', 'price_per_m2', 'level', 'levels', 'year', 'area_total', 'area_living', 'area_kitchen']\n",
      "список категоріальних покажчиків = ['street', 'type', 'district']\n"
     ]
    }
   ],
   "source": [
    "# застосувати побудовані селектори для створення списків числових та категоріальних показчиків\n",
    "numeric_data_columns = list(target.loc[:, numeric_selector])\n",
    "category_data_columns = list(target.loc[:, category_selector])\n",
    "\n",
    "print(f'список числових покажчиків = {numeric_data_columns}')\n",
    "print(f'список категоріальних покажчиків = {category_data_columns}')"
   ]
  },
  {
   "cell_type": "code",
   "execution_count": 10,
   "id": "6ecaeec9",
   "metadata": {
    "hidden": true
   },
   "outputs": [
    {
     "name": "stdout",
     "output_type": "stream",
     "text": [
      "<class 'pandas.core.frame.DataFrame'>\n",
      "RangeIndex: 483 entries, 0 to 482\n",
      "Data columns (total 8 columns):\n",
      " #   Column        Non-Null Count  Dtype  \n",
      "---  ------        --------------  -----  \n",
      " 0   rooms         483 non-null    float64\n",
      " 1   price_per_m2  483 non-null    float64\n",
      " 2   level         483 non-null    float64\n",
      " 3   levels        483 non-null    float64\n",
      " 4   year          483 non-null    float64\n",
      " 5   area_total    483 non-null    float64\n",
      " 6   area_living   483 non-null    float64\n",
      " 7   area_kitchen  483 non-null    float64\n",
      "dtypes: float64(8)\n",
      "memory usage: 30.3 KB\n",
      "<class 'pandas.core.frame.DataFrame'>\n",
      "RangeIndex: 483 entries, 0 to 482\n",
      "Data columns (total 3 columns):\n",
      " #   Column    Non-Null Count  Dtype \n",
      "---  ------    --------------  ----- \n",
      " 0   street    483 non-null    object\n",
      " 1   type      483 non-null    object\n",
      " 2   district  483 non-null    object\n",
      "dtypes: object(3)\n",
      "memory usage: 11.4+ KB\n"
     ]
    },
    {
     "data": {
      "text/plain": [
       "((483, 8), (483, 3))"
      ]
     },
     "execution_count": 10,
     "metadata": {},
     "output_type": "execute_result"
    }
   ],
   "source": [
    "# створити 2 окремі датасети: числовий та категоріальний та вивести їх основні властивості\n",
    "data_numeric = target.loc[:, numeric_data_columns]\n",
    "data_category = target.loc[:, category_data_columns]\n",
    "\n",
    "data_numeric.info()\n",
    "data_numeric.describe()\n",
    "data_numeric.head()\n",
    "\n",
    "data_category.info()\n",
    "data_category.describe()\n",
    "data_category.head()\n",
    "\n",
    "data_numeric.shape, data_category.shape"
   ]
  },
  {
   "cell_type": "markdown",
   "id": "6702f1f4",
   "metadata": {},
   "source": [
    "## 2. Маштабування числових та категоріальних колонок"
   ]
  },
  {
   "cell_type": "markdown",
   "id": "73613dc5",
   "metadata": {
    "heading_collapsed": true
   },
   "source": [
    "### 2.1. Маштабування числових показчиків"
   ]
  },
  {
   "cell_type": "code",
   "execution_count": 11,
   "id": "17349145",
   "metadata": {
    "hidden": true
   },
   "outputs": [],
   "source": [
    "# з модуля `preprocessing` імпортувати нормалізатор 'MinMaxScaler' та стандартизатор 'StandardScaler'\n",
    "from sklearn.preprocessing import MinMaxScaler, StandardScaler"
   ]
  },
  {
   "cell_type": "code",
   "execution_count": 12,
   "id": "6fc56713",
   "metadata": {
    "hidden": true
   },
   "outputs": [],
   "source": [
    "# створити відповідні маштабувачі\n",
    "standart_scaler = StandardScaler()\n",
    "min_max_scaler = MinMaxScaler()"
   ]
  },
  {
   "cell_type": "code",
   "execution_count": 13,
   "id": "0f4a23e6",
   "metadata": {
    "hidden": true
   },
   "outputs": [],
   "source": [
    "# побудувати змаштабовані датасети за двома стратегіями: стандартизація та нормалізація\n",
    "data_numeric_std = standart_scaler.fit_transform(data_numeric)\n",
    "data_numeric_min_max= min_max_scaler.fit_transform(data_numeric)"
   ]
  },
  {
   "cell_type": "code",
   "execution_count": 14,
   "id": "343c666c",
   "metadata": {
    "hidden": true
   },
   "outputs": [
    {
     "data": {
      "image/png": "[encoded data removed]",
      "text/plain": [
       "<Figure size 1200x800 with 1 Axes>"
      ]
     },
     "metadata": {},
     "output_type": "display_data"
    },
    {
     "data": {
      "image/png": "[encoded data removed]",
      "text/plain": [
       "<Figure size 1200x800 with 1 Axes>"
      ]
     },
     "metadata": {},
     "output_type": "display_data"
    }
   ],
   "source": [
    "# побудувати графіки розподілення значень показчиків при\n",
    "# стандартном та нормалізованом маштабуванні\n",
    "import matplotlib.pyplot as plt\n",
    "\n",
    "# побудова графіків розподілення значень показчиків при стандартному маштабуванні\n",
    "plt.figure(figsize=(12, 8))\n",
    "plt.boxplot(data_numeric_std, vert=False, labels=numeric_data_columns)\n",
    "plt.title('Розподілення значень показчиків при стандартному маштабуванні')\n",
    "plt.xlabel('Значення')\n",
    "plt.ylabel('Показчик')\n",
    "plt.show()\n",
    "\n",
    "# побудова графіків розподілення значень показчиків при нормалізації\n",
    "plt.figure(figsize=(12, 8))\n",
    "plt.boxplot(data_numeric_min_max, vert=False, labels=numeric_data_columns)\n",
    "plt.title('Розподілення значень показчиків при нормалізації')\n",
    "plt.xlabel('Значення')\n",
    "plt.ylabel('Показчик')\n",
    "plt.show()"
   ]
  },
  {
   "cell_type": "markdown",
   "id": "3813999f",
   "metadata": {
    "hidden": true
   },
   "source": [
    "#####  __проаналізувати графіки та визначись який маштабувач краще підходить до числовї підмножини робочого датасету__"
   ]
  },
  {
   "cell_type": "markdown",
   "id": "b76b10d8",
   "metadata": {
    "heading_collapsed": true
   },
   "source": [
    "### 2.1. Маштабування категоріальних показчиків"
   ]
  },
  {
   "cell_type": "code",
   "execution_count": 15,
   "id": "8f404fef",
   "metadata": {
    "hidden": true
   },
   "outputs": [],
   "source": [
    "# з модуля `preporcessing` імпортувати кодувальники 'OrdinalEncoder' та 'OneHotEncoder'\n",
    "from sklearn.preprocessing import OrdinalEncoder, OneHotEncoder"
   ]
  },
  {
   "cell_type": "code",
   "execution_count": 16,
   "id": "9118d4ce",
   "metadata": {
    "hidden": true
   },
   "outputs": [],
   "source": [
    "# проаналізувати категоріальні показчики та визначитись до якого показчика\n",
    "# який енкодер доцільно застосовувати\n",
    "ordinal_Encoder = OrdinalEncoder()\n",
    "onehot_encoder = OneHotEncoder(handle_unknown='ignore')"
   ]
  },
  {
   "cell_type": "code",
   "execution_count": 17,
   "id": "b70c4794",
   "metadata": {
    "hidden": true
   },
   "outputs": [],
   "source": [
    "# створити енкодери та закодувати ними відповідні категоріальні колонки\n",
    "ordinal_encoder = ordinal_Encoder.fit_transform(data_numeric)\n",
    "one_hot_encoder = onehot_encoder.fit_transform(data_category)"
   ]
  },
  {
   "cell_type": "markdown",
   "id": "bb506c75",
   "metadata": {
    "heading_collapsed": true
   },
   "source": [
    "## 3. Побудова трансформера для підготовки даних"
   ]
  },
  {
   "cell_type": "code",
   "execution_count": 18,
   "id": "7c6c1930",
   "metadata": {
    "hidden": true
   },
   "outputs": [],
   "source": [
    "# з модуля `compose` імпортувати трансформер колонок `ColumnTransformer`\n",
    "from sklearn.compose import ColumnTransformer"
   ]
  },
  {
   "cell_type": "code",
   "execution_count": 19,
   "id": "2605b0c2",
   "metadata": {
    "hidden": true
   },
   "outputs": [
    {
     "name": "stdout",
     "output_type": "stream",
     "text": [
      "ColumnTransformer(transformers=[('num', StandardScaler(),\n",
      "                                 ['rooms', 'price_per_m2', 'level', 'levels',\n",
      "                                  'year', 'area_total', 'area_living',\n",
      "                                  'area_kitchen']),\n",
      "                                ('cat', OneHotEncoder(),\n",
      "                                 ['street', 'type', 'district'])])\n"
     ]
    }
   ],
   "source": [
    "# побудувати трансформер для предобробки числових та категоріальних показчиків\n",
    "# робочого датасету\n",
    "from sklearn.compose import ColumnTransformer\n",
    "from sklearn.preprocessing import StandardScaler\n",
    "from sklearn.preprocessing import OneHotEncoder\n",
    "\n",
    "transformer = ColumnTransformer(\n",
    "    transformers=[\n",
    "        ('num', StandardScaler(), numeric_data_columns),\n",
    "        ('cat', OneHotEncoder(), category_data_columns)\n",
    "    ])\n",
    "print(transformer)"
   ]
  },
  {
   "cell_type": "code",
   "execution_count": 20,
   "id": "2375ade7",
   "metadata": {
    "code_folding": [],
    "hidden": true
   },
   "outputs": [
    {
     "data": {
      "text/plain": [
       "(483, 203)"
      ]
     },
     "execution_count": 20,
     "metadata": {},
     "output_type": "execute_result"
    }
   ],
   "source": [
    "# отримати вихідний масив застосував трансфомер до вхідного датасуту\n",
    "data_transformed = transformer.fit_transform(data)\n",
    "data_transformed.shape"
   ]
  },
  {
   "cell_type": "code",
   "execution_count": 21,
   "id": "4ea575ba",
   "metadata": {
    "hidden": true
   },
   "outputs": [],
   "source": [
    "# побудувати вихідний датафрейм з вихідного масиву додавши в першу колонку\n",
    "# ціловий показчик `target`\n",
    "apartment_transformed = pd.concat([pd.DataFrame(target, columns=['target']), pd.DataFrame(data_transformed)], axis=1)\n"
   ]
  },
  {
   "cell_type": "code",
   "execution_count": 22,
   "id": "392d36bf",
   "metadata": {
    "hidden": true
   },
   "outputs": [
    {
     "name": "stdout",
     "output_type": "stream",
     "text": [
      "   target                                                  0\n",
      "0     NaN    (0, 0)\\t-1.1039847398821212\\n  (0, 1)\\t-0.15...\n",
      "1     NaN    (0, 0)\\t-1.1039847398821212\\n  (0, 1)\\t-0.15...\n",
      "2     NaN    (0, 0)\\t-0.1517979017337915\\n  (0, 1)\\t-0.12...\n",
      "3     NaN    (0, 0)\\t-0.1517979017337915\\n  (0, 1)\\t-0.01...\n",
      "4     NaN    (0, 0)\\t-0.1517979017337915\\n  (0, 1)\\t-0.12...\n"
     ]
    }
   ],
   "source": [
    "# Проінспектувати вихідний датасет `apartment_transformed`\n",
    "print(apartment_transformed.head())\n"
   ]
  },
  {
   "cell_type": "code",
   "execution_count": 23,
   "id": "3fca0d30",
   "metadata": {
    "hidden": true
   },
   "outputs": [],
   "source": [
    "# зберегти підготовлений датасет в csv-файлі `apartment_transformed.csv`\n",
    "apartment_transformed.to_csv('apartment_transformed.csv', index=False)"
   ]
  }
 ],
 "metadata": {
  "kernelspec": {
   "display_name": "Python 3 (ipykernel)",
   "language": "python",
   "name": "python3"
  },
  "language_info": {
   "codemirror_mode": {
    "name": "ipython",
    "version": 3
   },
   "file_extension": ".py",
   "mimetype": "text/x-python",
   "name": "python",
   "nbconvert_exporter": "python",
   "pygments_lexer": "ipython3",
   "version": "3.10.9"
  },
  "varInspector": {
   "cols": {
    "lenName": 16,
    "lenType": 16,
    "lenVar": 40
   },
   "kernels_config": {
    "python": {
     "delete_cmd_postfix": "",
     "delete_cmd_prefix": "del ",
     "library": "var_list.py",
     "varRefreshCmd": "print(var_dic_list())"
    },
    "r": {
     "delete_cmd_postfix": ") ",
     "delete_cmd_prefix": "rm(",
     "library": "var_list.r",
     "varRefreshCmd": "cat(var_dic_list()) "
    }
   },
   "types_to_exclude": [
    "module",
    "function",
    "builtin_function_or_method",
    "instance",
    "_Feature"
   ],
   "window_display": false
  }
 },
 "nbformat": 4,
 "nbformat_minor": 5
}
